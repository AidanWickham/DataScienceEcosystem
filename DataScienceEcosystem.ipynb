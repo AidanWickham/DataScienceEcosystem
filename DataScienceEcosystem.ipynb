{
 "cells": [
  {
   "cell_type": "markdown",
   "id": "86559ef6",
   "metadata": {},
   "source": [
    "# Data Science Tools and Ecosystem "
   ]
  },
  {
   "cell_type": "markdown",
   "id": "ca3cb7c6",
   "metadata": {},
   "source": [
    "In this notebook, Data Science Tools and Ecosystem are summarized."
   ]
  },
  {
   "cell_type": "markdown",
   "id": "1c961aca",
   "metadata": {},
   "source": [
    "__Objectives:__\n",
    "\n",
    "- List of popular languages for Data Science\n",
    "- Libraries commonly used by Data Scientists\n",
    "- Using expressions in Python\n",
    "- Creating & formatting tables using Markdown"
   ]
  },
  {
   "cell_type": "markdown",
   "id": "bdff318f",
   "metadata": {},
   "source": [
    "Some of the popular languages that Data Scientists use are: \n",
    "\n",
    "1. Phython\n",
    "2. SQL\n",
    "3. R\n",
    "\n"
   ]
  },
  {
   "cell_type": "markdown",
   "id": "f086ef17",
   "metadata": {},
   "source": [
    "Some of the commonly used libraries used by Data Scientists include:\n",
    "\n",
    "1. TensorFlow\n",
    "2. Pandas\n",
    "3. Matplotlib"
   ]
  },
  {
   "cell_type": "markdown",
   "id": "59fd5fc3",
   "metadata": {},
   "source": [
    "|   Data Science Tools  |\n",
    "|-----------------------|\n",
    "|        IBM Watson Studio         |\n",
    "|        RStudio         |\n",
    "|      Jupyter       |"
   ]
  },
  {
   "cell_type": "markdown",
   "id": "d82d174a",
   "metadata": {},
   "source": [
    "### Below are a few examples of evaluating arithmetic expressions in Python"
   ]
  },
  {
   "cell_type": "markdown",
   "id": "5290ed9c",
   "metadata": {},
   "source": [
    "This a simple arithmetic expression to multiply then add integers"
   ]
  },
  {
   "cell_type": "code",
   "execution_count": 15,
   "id": "98b9deb8",
   "metadata": {},
   "outputs": [
    {
     "name": "stdout",
     "output_type": "stream",
     "text": [
      "17\n"
     ]
    }
   ],
   "source": [
    "multadd = (3*4)+5\n",
    "print(multadd)"
   ]
  },
  {
   "cell_type": "markdown",
   "id": "ab26bd9f",
   "metadata": {},
   "source": [
    "This will convert 200 minutes to hours by diving by 60"
   ]
  },
  {
   "cell_type": "code",
   "execution_count": 13,
   "id": "829c9123",
   "metadata": {},
   "outputs": [
    {
     "name": "stdout",
     "output_type": "stream",
     "text": [
      "3.3333333333333335\n"
     ]
    }
   ],
   "source": [
    "minutes = 200\n",
    "hour = 60\n",
    "\n",
    "minconvert = (minutes/hour)\n",
    "print(minconvert)"
   ]
  },
  {
   "cell_type": "markdown",
   "id": "26c3a763",
   "metadata": {},
   "source": [
    "## Author\n",
    "Aidan Wickham"
   ]
  }
 ],
 "metadata": {
  "kernelspec": {
   "display_name": "Python 3 (ipykernel)",
   "language": "python",
   "name": "python3"
  },
  "language_info": {
   "codemirror_mode": {
    "name": "ipython",
    "version": 3
   },
   "file_extension": ".py",
   "mimetype": "text/x-python",
   "name": "python",
   "nbconvert_exporter": "python",
   "pygments_lexer": "ipython3",
   "version": "3.10.10"
  }
 },
 "nbformat": 4,
 "nbformat_minor": 5
}
